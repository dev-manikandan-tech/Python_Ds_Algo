{
 "cells": [
  {
   "cell_type": "markdown",
   "id": "e146b6f4",
   "metadata": {},
   "source": [
    "# Patterns \n",
    "## Before solving the patterns problem. You need to determine the answer for the below 3 questions.\n",
    "1. How many Rows the program needs to print?\n",
    "2. How many colums the program needs to prints?\n",
    "3. What needs to be printed?\n",
    "\n",
    "After determining the answers for those questions, you can easily solve the pattern problems."
   ]
  },
  {
   "cell_type": "code",
   "execution_count": 2,
   "id": "e93d63fb",
   "metadata": {},
   "outputs": [
    {
     "name": "stdout",
     "output_type": "stream",
     "text": [
      "4\n",
      "* * * * \n",
      "* * * * \n",
      "* * * * \n",
      "* * * * \n"
     ]
    }
   ],
   "source": [
    "#print the following patterns \n",
    "\"\"\"\n",
    "****\n",
    "****\n",
    "****\n",
    "\"\"\"\n",
    "\n",
    "#We can solve the patterns problem using while and for loops\n",
    "n = int(input())\n",
    "for row in range(n):\n",
    "    for col in range(n):\n",
    "        print('*', end= ' ')\n",
    "    print()"
   ]
  },
  {
   "cell_type": "code",
   "execution_count": 4,
   "id": "835413a7",
   "metadata": {},
   "outputs": [
    {
     "name": "stdout",
     "output_type": "stream",
     "text": [
      "4\n",
      "* * * * \n",
      "* * * * \n",
      "* * * * \n",
      "* * * * \n"
     ]
    }
   ],
   "source": [
    "#using while loop\n",
    "n = int(input())\n",
    "i = 0 \n",
    "while i < n:\n",
    "    j = 0\n",
    "    while j < n:\n",
    "        print('*',end=' ')\n",
    "        j = j + 1\n",
    "    print()\n",
    "    i = i + 1"
   ]
  },
  {
   "cell_type": "code",
   "execution_count": 8,
   "id": "dd3d9f5e",
   "metadata": {},
   "outputs": [
    {
     "name": "stdout",
     "output_type": "stream",
     "text": [
      "3\n",
      "3 3 3 \n",
      "3 3 3 \n",
      "3 3 3 \n"
     ]
    }
   ],
   "source": [
    "\"\"\"\n",
    "Print the following pattern for the given N number of rows\n",
    "Pattern for N = 4\n",
    "\n",
    "4444\n",
    "4444\n",
    "4444\n",
    "4444\n",
    "\n",
    "Pattern for N = 7\n",
    "\n",
    "7777777\n",
    "7777777\n",
    "7777777\n",
    "7777777\n",
    "7777777\n",
    "7777777\n",
    "7777777\n",
    "\"\"\"\n",
    "\n",
    "#using for loop\n",
    "N = int(input())\n",
    "for row in range(N):\n",
    "    for col in range(N):\n",
    "        print(N, end=\" \")\n",
    "    print()"
   ]
  },
  {
   "cell_type": "code",
   "execution_count": 10,
   "id": "83c3f1db",
   "metadata": {},
   "outputs": [
    {
     "name": "stdout",
     "output_type": "stream",
     "text": [
      "4\n",
      "4 4 4 4 \n",
      "4 4 4 4 \n",
      "4 4 4 4 \n",
      "4 4 4 4 \n"
     ]
    }
   ],
   "source": [
    "#Using while loop\n",
    "\n",
    "N = int(input())\n",
    "i = 0\n",
    "while i < N:\n",
    "    j = 0\n",
    "    while j < N:\n",
    "        print(N, end = \" \")\n",
    "        j = j + 1\n",
    "    print()\n",
    "    i = i + 1"
   ]
  },
  {
   "cell_type": "markdown",
   "id": "438b0f83",
   "metadata": {},
   "source": [
    "# N = 5 Print the following pattern\n",
    "1 1 1 1 1 </br>\n",
    "2 2 2 2 2\n",
    "3 3 3 3 3\n",
    "4 4 4 4 4\n",
    "5 5 5 5 5\n"
   ]
  },
  {
   "cell_type": "code",
   "execution_count": null,
   "id": "9f40b569",
   "metadata": {},
   "outputs": [],
   "source": []
  }
 ],
 "metadata": {
  "kernelspec": {
   "display_name": "Python 3 (ipykernel)",
   "language": "python",
   "name": "python3"
  },
  "language_info": {
   "codemirror_mode": {
    "name": "ipython",
    "version": 3
   },
   "file_extension": ".py",
   "mimetype": "text/x-python",
   "name": "python",
   "nbconvert_exporter": "python",
   "pygments_lexer": "ipython3",
   "version": "3.9.7"
  }
 },
 "nbformat": 4,
 "nbformat_minor": 5
}
