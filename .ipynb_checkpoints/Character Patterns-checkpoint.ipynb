{
 "cells": [
  {
   "cell_type": "code",
   "execution_count": 2,
   "id": "263f0450",
   "metadata": {},
   "outputs": [
    {
     "name": "stdout",
     "output_type": "stream",
     "text": [
      "5\n",
      "A B C D E \n",
      "A B C D E \n",
      "A B C D E \n",
      "A B C D E \n",
      "A B C D E \n"
     ]
    }
   ],
   "source": [
    "\"\"\"\n",
    "# N = 4\n",
    "ABCD\n",
    "ABCD\n",
    "ABCD\n",
    "ABCD\n",
    "\n",
    "\"\"\"\n",
    "\n",
    "n = int(input())\n",
    "i = 0 \n",
    "while i < n:\n",
    "    j = 0\n",
    "    while j < n:\n",
    "        print( chr(64 + j + 1),end=' ')\n",
    "        j = j + 1\n",
    "    print()\n",
    "    i = i + 1"
   ]
  },
  {
   "cell_type": "code",
   "execution_count": null,
   "id": "af3e57fc",
   "metadata": {},
   "outputs": [],
   "source": [
    "\"\"\"\n",
    "# N = 4\n",
    "ABCD\n",
    "BCDE\n",
    "CDEF\n",
    "DEFG\n",
    "\"\"\"\n",
    "\n",
    "n = int(input())\n",
    "row = 1 \n",
    "while row <= n:\n",
    "    col = 1\n",
    "    while col <= n:\n",
    "        print( chr(64 + col +row - 1),end=' ')\n",
    "        col = col + 1\n",
    "    print()\n",
    "    row = row + 1"
   ]
  }
 ],
 "metadata": {
  "kernelspec": {
   "display_name": "Python 3 (ipykernel)",
   "language": "python",
   "name": "python3"
  },
  "language_info": {
   "codemirror_mode": {
    "name": "ipython",
    "version": 3
   },
   "file_extension": ".py",
   "mimetype": "text/x-python",
   "name": "python",
   "nbconvert_exporter": "python",
   "pygments_lexer": "ipython3",
   "version": "3.9.7"
  }
 },
 "nbformat": 4,
 "nbformat_minor": 5
}
