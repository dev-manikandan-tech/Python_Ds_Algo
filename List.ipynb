{
 "cells": [
  {
   "cell_type": "code",
   "execution_count": 2,
   "id": "e2491979",
   "metadata": {},
   "outputs": [
    {
     "name": "stdout",
     "output_type": "stream",
     "text": [
      "1 2 3 4 5\n",
      "[1, 2, 3, 4, 5]\n",
      "<class 'list'>\n"
     ]
    }
   ],
   "source": [
    "\"\"\"\n",
    "Using List Comprehension\n",
    "List comprehension is an elegant way to define and create a list in Python. We can\n",
    "create lists just like mathematical statements in one line only.\n",
    "\"\"\"\n",
    "nums = [int(ele) for ele in input().split()]\n",
    "print(nums)\n",
    "print(type(nums))"
   ]
  }
 ],
 "metadata": {
  "kernelspec": {
   "display_name": "Python 3 (ipykernel)",
   "language": "python",
   "name": "python3"
  },
  "language_info": {
   "codemirror_mode": {
    "name": "ipython",
    "version": 3
   },
   "file_extension": ".py",
   "mimetype": "text/x-python",
   "name": "python",
   "nbconvert_exporter": "python",
   "pygments_lexer": "ipython3",
   "version": "3.9.7"
  }
 },
 "nbformat": 4,
 "nbformat_minor": 5
}
