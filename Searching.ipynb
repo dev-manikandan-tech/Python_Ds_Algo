{
 "cells": [
  {
   "cell_type": "code",
   "execution_count": 4,
   "id": "7786ba30",
   "metadata": {},
   "outputs": [
    {
     "name": "stdout",
     "output_type": "stream",
     "text": [
      "-1\n"
     ]
    }
   ],
   "source": [
    "#Linear Search\n",
    "def Linear_search(arr, target):\n",
    "    index = 0\n",
    "    while index < len(arr):\n",
    "        if arr[index] == target:\n",
    "            return index\n",
    "        index = index + 1\n",
    "    return -1\n",
    "array = [3, 4, 5, 6, 7, 8, 9]\n",
    "target = 10\n",
    "result = Linear_search(array, target)\n",
    "print(result)"
   ]
  },
  {
   "cell_type": "code",
   "execution_count": 3,
   "id": "fa44901e",
   "metadata": {},
   "outputs": [
    {
     "name": "stdout",
     "output_type": "stream",
     "text": [
      "3\n"
     ]
    }
   ],
   "source": [
    "#Binary Search\n",
    "#Function to implement Binary Search Algorithm\n",
    "def binarySearch(arr, target):\n",
    "    start = 0\n",
    "    end = len(arr) - 1\n",
    "    \n",
    "    while start <= end:\n",
    "        mid = (start + end) // 2\n",
    "        if arr[mid] == target:\n",
    "            return mid\n",
    "        elif arr[mid] < target:\n",
    "            start = mid + 1\n",
    "        else:\n",
    "            end = mid - 1\n",
    "    return -1\n",
    "array = [3, 4, 5, 6, 7, 8, 9]\n",
    "target = 6\n",
    "result = binarySearch(array, target)\n",
    "print(result)"
   ]
  },
  {
   "cell_type": "code",
   "execution_count": 4,
   "id": "af7dfb61",
   "metadata": {},
   "outputs": [
    {
     "name": "stdout",
     "output_type": "stream",
     "text": [
      "Sorted Array in Ascending Order: \n",
      "[2, 10, 12, 15, 20]\n"
     ]
    }
   ],
   "source": [
    "#Sorting\n",
    "#Selection Sort\n",
    "def selectionSort(arr, size):\n",
    "    \n",
    "    for step in range(size):\n",
    "        minimum = step\n",
    "        for val in range(step + 1, size):\n",
    "            if arr[val] <=  arr[minimum]:\n",
    "                minimum = val\n",
    "        (arr[step], arr[minimum]) = (arr[minimum], arr[step])\n",
    "input = [20, 12, 10, 15, 2]\n",
    "size = len(input)\n",
    "selectionSort(input, size)\n",
    "print('Sorted Array in Ascending Order: ')\n",
    "print(input)            "
   ]
  }
 ],
 "metadata": {
  "kernelspec": {
   "display_name": "Python 3 (ipykernel)",
   "language": "python",
   "name": "python3"
  },
  "language_info": {
   "codemirror_mode": {
    "name": "ipython",
    "version": 3
   },
   "file_extension": ".py",
   "mimetype": "text/x-python",
   "name": "python",
   "nbconvert_exporter": "python",
   "pygments_lexer": "ipython3",
   "version": "3.9.7"
  }
 },
 "nbformat": 4,
 "nbformat_minor": 5
}
