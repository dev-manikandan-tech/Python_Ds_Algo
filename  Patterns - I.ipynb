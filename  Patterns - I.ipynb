{
 "cells": [
  {
   "cell_type": "markdown",
   "id": "82f38e34",
   "metadata": {},
   "source": [
    "# Patterns \n",
    "## Before solving the patterns problem. You need to determine the answer for the below 3 questions.\n",
    "1. How many Rows the program needs to print?\n",
    "2. How many colums the program needs to prints?\n",
    "3. What needs to be printed?\n",
    "\n",
    "After determining the answers for those questions, you can easily solve the pattern problems."
   ]
  },
  {
   "cell_type": "code",
   "execution_count": 2,
   "id": "b02415b2",
   "metadata": {},
   "outputs": [
    {
     "name": "stdout",
     "output_type": "stream",
     "text": [
      "4\n",
      "* * * * \n",
      "* * * * \n",
      "* * * * \n",
      "* * * * \n"
     ]
    }
   ],
   "source": [
    "#print the following patterns \n",
    "\"\"\"\n",
    "****\n",
    "****\n",
    "****\n",
    "\"\"\"\n",
    "\n",
    "#We can solve the patterns problem using while and for loops\n",
    "n = int(input())\n",
    "for row in range(n):\n",
    "    for col in range(n):\n",
    "        print('*', end= ' ')\n",
    "    print()"
   ]
  },
  {
   "cell_type": "code",
   "execution_count": 4,
   "id": "f37069cf",
   "metadata": {},
   "outputs": [
    {
     "name": "stdout",
     "output_type": "stream",
     "text": [
      "4\n",
      "* * * * \n",
      "* * * * \n",
      "* * * * \n",
      "* * * * \n"
     ]
    }
   ],
   "source": [
    "#using while loop\n",
    "n = int(input())\n",
    "i = 0 \n",
    "while i < n:\n",
    "    j = 0\n",
    "    while j < n:\n",
    "        print('*',end=' ')\n",
    "        j = j + 1\n",
    "    print()\n",
    "    i = i + 1"
   ]
  }
 ],
 "metadata": {
  "kernelspec": {
   "display_name": "Python 3 (ipykernel)",
   "language": "python",
   "name": "python3"
  },
  "language_info": {
   "codemirror_mode": {
    "name": "ipython",
    "version": 3
   },
   "file_extension": ".py",
   "mimetype": "text/x-python",
   "name": "python",
   "nbconvert_exporter": "python",
   "pygments_lexer": "ipython3",
   "version": "3.9.7"
  }
 },
 "nbformat": 4,
 "nbformat_minor": 5
}
